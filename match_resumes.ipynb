{
 "cells": [
  {
   "cell_type": "markdown",
   "id": "12d3bacb-0394-4688-b1c7-4bc806264b2c",
   "metadata": {},
   "source": [
    "## Import"
   ]
  },
  {
   "cell_type": "code",
   "execution_count": 73,
   "id": "3136cda3-2afa-45ee-b016-449fe8dde6c1",
   "metadata": {
    "tags": []
   },
   "outputs": [],
   "source": [
    "import numpy as np\n",
    "import pandas as pd\n",
    "import re\n",
    "import string # for text cleaning\n",
    "import contractions # for expanding short form words\n",
    "from tqdm import tqdm\n",
    "tqdm.pandas(desc=\"Progress Bar\")\n",
    "import torch\n",
    "from datasets import load_dataset\n",
    "from transformers import DistilBertTokenizer, DistilBertModel\n",
    "from sklearn.metrics.pairwise import cosine_similarity\n",
    "import openai"
   ]
  },
  {
   "cell_type": "markdown",
   "id": "9e669896-f8d4-4f63-905f-d8099646605c",
   "metadata": {},
   "source": [
    "## Loading JD Data"
   ]
  },
  {
   "cell_type": "code",
   "execution_count": 4,
   "id": "8a69dba4-c7e1-4a30-9088-586a0617bfb5",
   "metadata": {
    "tags": []
   },
   "outputs": [
    {
     "data": {
      "text/plain": [
       "Dataset({\n",
       "    features: ['company_name', 'job_description', 'position_title', 'description_length', 'model_response'],\n",
       "    num_rows: 853\n",
       "})"
      ]
     },
     "execution_count": 4,
     "metadata": {},
     "output_type": "execute_result"
    }
   ],
   "source": [
    "jd_data = load_dataset('jacob-hugging-face/job-descriptions', split=\"train\")\n",
    "jd_data"
   ]
  },
  {
   "cell_type": "code",
   "execution_count": 88,
   "id": "0631d48c-94c8-4f28-9bbb-2457c060af1a",
   "metadata": {
    "tags": []
   },
   "outputs": [
    {
     "data": {
      "text/html": [
       "<div>\n",
       "<style scoped>\n",
       "    .dataframe tbody tr th:only-of-type {\n",
       "        vertical-align: middle;\n",
       "    }\n",
       "\n",
       "    .dataframe tbody tr th {\n",
       "        vertical-align: top;\n",
       "    }\n",
       "\n",
       "    .dataframe thead th {\n",
       "        text-align: right;\n",
       "    }\n",
       "</style>\n",
       "<table border=\"1\" class=\"dataframe\">\n",
       "  <thead>\n",
       "    <tr style=\"text-align: right;\">\n",
       "      <th></th>\n",
       "      <th>company_name</th>\n",
       "      <th>job_description</th>\n",
       "      <th>position_title</th>\n",
       "      <th>description_length</th>\n",
       "      <th>model_response</th>\n",
       "    </tr>\n",
       "  </thead>\n",
       "  <tbody>\n",
       "    <tr>\n",
       "      <th>0</th>\n",
       "      <td>Google</td>\n",
       "      <td>minimum qualifications\\nbachelors degree or eq...</td>\n",
       "      <td>Sales Specialist</td>\n",
       "      <td>2727</td>\n",
       "      <td>{\\n  \"Core Responsibilities\": \"Responsible fo...</td>\n",
       "    </tr>\n",
       "    <tr>\n",
       "      <th>1</th>\n",
       "      <td>Apple</td>\n",
       "      <td>description\\nas an asc you will be highly infl...</td>\n",
       "      <td>Apple Solutions Consultant</td>\n",
       "      <td>828</td>\n",
       "      <td>{\\n  \"Core Responsibilities\": \"as an asc you ...</td>\n",
       "    </tr>\n",
       "    <tr>\n",
       "      <th>2</th>\n",
       "      <td>Netflix</td>\n",
       "      <td>its an amazing time to be joining netflix as w...</td>\n",
       "      <td>Licensing Coordinator - Consumer Products</td>\n",
       "      <td>3205</td>\n",
       "      <td>{\\n  \"Core Responsibilities\": \"Help drive bus...</td>\n",
       "    </tr>\n",
       "    <tr>\n",
       "      <th>3</th>\n",
       "      <td>Robert Half</td>\n",
       "      <td>description\\n\\nweb designers looking to expand...</td>\n",
       "      <td>Web Designer</td>\n",
       "      <td>2489</td>\n",
       "      <td>{\\n  \"Core Responsibilities\": \"Designing webs...</td>\n",
       "    </tr>\n",
       "    <tr>\n",
       "      <th>4</th>\n",
       "      <td>TrackFive</td>\n",
       "      <td>at trackfive weve got big goals were on a miss...</td>\n",
       "      <td>Web Developer</td>\n",
       "      <td>3167</td>\n",
       "      <td>{\\n  \"Core Responsibilities\": \"Build and layo...</td>\n",
       "    </tr>\n",
       "  </tbody>\n",
       "</table>\n",
       "</div>"
      ],
      "text/plain": [
       "  company_name                                    job_description  \\\n",
       "0       Google  minimum qualifications\\nbachelors degree or eq...   \n",
       "1        Apple  description\\nas an asc you will be highly infl...   \n",
       "2      Netflix  its an amazing time to be joining netflix as w...   \n",
       "3  Robert Half  description\\n\\nweb designers looking to expand...   \n",
       "4    TrackFive  at trackfive weve got big goals were on a miss...   \n",
       "\n",
       "                              position_title  description_length  \\\n",
       "0                           Sales Specialist                2727   \n",
       "1                 Apple Solutions Consultant                 828   \n",
       "2  Licensing Coordinator - Consumer Products                3205   \n",
       "3                               Web Designer                2489   \n",
       "4                              Web Developer                3167   \n",
       "\n",
       "                                      model_response  \n",
       "0   {\\n  \"Core Responsibilities\": \"Responsible fo...  \n",
       "1   {\\n  \"Core Responsibilities\": \"as an asc you ...  \n",
       "2   {\\n  \"Core Responsibilities\": \"Help drive bus...  \n",
       "3   {\\n  \"Core Responsibilities\": \"Designing webs...  \n",
       "4   {\\n  \"Core Responsibilities\": \"Build and layo...  "
      ]
     },
     "execution_count": 88,
     "metadata": {},
     "output_type": "execute_result"
    }
   ],
   "source": [
    "jd_df = pd.DataFrame(jd_data)\n",
    "jd_df.head()"
   ]
  },
  {
   "cell_type": "code",
   "execution_count": 89,
   "id": "49f15549-f74e-4109-8e05-8499a528fd77",
   "metadata": {
    "scrolled": true,
    "tags": []
   },
   "outputs": [
    {
     "name": "stdout",
     "output_type": "stream",
     "text": [
      "minimum qualifications\n",
      "bachelors degree or equivalent practical experience years of experience in saas or productivity tools businessexperience managing enterprise accounts with sales cycles\n",
      "preferred qualifications\n",
      " years of experience building strategic business partnerships with enterprise customersability to work through and with a reseller ecosystem to scale the businessability to plan pitch and execute a territory business strategyability to build relationships and to deliver results in a crossfunctionalmatrixed environmentability to identify crosspromoting and uppromoting opportunities within the existing account baseexcellent account management writtenverbal communication strategic and analyticalthinking skills\n",
      "about the job\n",
      "as a member of the google cloud team you inspire leading companies schools and government agencies to work smarter with google tools like google workspace search and chrome you advocate the innovative power of our products to make organizations more productive collaborative and mobile your guiding light is doing whats right for the customer you will meet customers exactly where they are at and provide them the best solutions for innovation using your passion for google products you help spread the magic of google to organizations around the world\n",
      "the google workspace team helps customers transform and evolve their business through the use of googles productivity collaboration and content management suite of applications as part of an entrepreneurial team in this growing business you will help shape the future of businesses use technology to connect with customers employees and partners\n",
      "as a google workspace sales specialist you will be responsible for maintenance and expansion of google workspace business growth across the region with customers in this role youll create and execute the strategy and provide unique insights on applying google workspace solutions to enterprisesyou will build an excellent pipeline and work with the account teams to build out the customer solution and establish partnerships you will strategize with partners to increase account and territory business growth you will work directly with customers coordinate internal resources and construct successful strategies at account and territory level\n",
      "google cloud accelerates organizations ability to digitally transform their business with the best infrastructure platform industry solutions and expertise we deliver enterprisegrade solutions that leverage googles cuttingedge technology  all on the cleanest cloud in the industry customers in more than  countries and territories turn to google cloud as their trusted partner to enable growth and solve their most critical business problems\n"
     ]
    }
   ],
   "source": [
    "print(jd_df['job_description'][0])"
   ]
  },
  {
   "cell_type": "markdown",
   "id": "89b1d16a-e859-4256-b83a-525f0a780749",
   "metadata": {},
   "source": [
    "## Loading Extracted CV Data"
   ]
  },
  {
   "cell_type": "code",
   "execution_count": 93,
   "id": "d36e68a3-c01e-4159-82da-58572a65d61a",
   "metadata": {
    "tags": []
   },
   "outputs": [
    {
     "data": {
      "text/html": [
       "<div>\n",
       "<style scoped>\n",
       "    .dataframe tbody tr th:only-of-type {\n",
       "        vertical-align: middle;\n",
       "    }\n",
       "\n",
       "    .dataframe tbody tr th {\n",
       "        vertical-align: top;\n",
       "    }\n",
       "\n",
       "    .dataframe thead th {\n",
       "        text-align: right;\n",
       "    }\n",
       "</style>\n",
       "<table border=\"1\" class=\"dataframe\">\n",
       "  <thead>\n",
       "    <tr style=\"text-align: right;\">\n",
       "      <th></th>\n",
       "      <th>skills</th>\n",
       "      <th>education</th>\n",
       "      <th>ID</th>\n",
       "      <th>Category</th>\n",
       "    </tr>\n",
       "  </thead>\n",
       "  <tbody>\n",
       "    <tr>\n",
       "      <th>0</th>\n",
       "      <td>Cold, Excel</td>\n",
       "      <td>WFX, State\\n \\nManage, Staffing Coordinator\\n ...</td>\n",
       "      <td>10228751</td>\n",
       "      <td>BUSINESS-DEVELOPMENT</td>\n",
       "    </tr>\n",
       "    <tr>\n",
       "      <th>1</th>\n",
       "      <td>Associate of Arts\\n \\n: \\nGolf Management\\n \\n...</td>\n",
       "      <td>LLC, Professional Golf Management\\n \\nCity\\n \\...</td>\n",
       "      <td>10235211</td>\n",
       "      <td>BUSINESS-DEVELOPMENT</td>\n",
       "    </tr>\n",
       "    <tr>\n",
       "      <th>2</th>\n",
       "      <td>The Over Achiever of the Year, Fortune 500, Ou...</td>\n",
       "      <td>State\\n \\nFinancial Operations\\nExecutive, Sal...</td>\n",
       "      <td>10289113</td>\n",
       "      <td>BUSINESS-DEVELOPMENT</td>\n",
       "    </tr>\n",
       "    <tr>\n",
       "      <th>3</th>\n",
       "      <td>Ph.D.</td>\n",
       "      <td>Birst, Business Management or Sales, Mailchimp...</td>\n",
       "      <td>10501991</td>\n",
       "      <td>BUSINESS-DEVELOPMENT</td>\n",
       "    </tr>\n",
       "    <tr>\n",
       "      <th>4</th>\n",
       "      <td>Fortune 500, Excel</td>\n",
       "      <td>Human Resources, Darton State College, Communi...</td>\n",
       "      <td>10541358</td>\n",
       "      <td>BUSINESS-DEVELOPMENT</td>\n",
       "    </tr>\n",
       "  </tbody>\n",
       "</table>\n",
       "</div>"
      ],
      "text/plain": [
       "                                              skills  \\\n",
       "0                                        Cold, Excel   \n",
       "1  Associate of Arts\\n \\n: \\nGolf Management\\n \\n...   \n",
       "2  The Over Achiever of the Year, Fortune 500, Ou...   \n",
       "3                                              Ph.D.   \n",
       "4                                 Fortune 500, Excel   \n",
       "\n",
       "                                           education        ID  \\\n",
       "0  WFX, State\\n \\nManage, Staffing Coordinator\\n ...  10228751   \n",
       "1  LLC, Professional Golf Management\\n \\nCity\\n \\...  10235211   \n",
       "2  State\\n \\nFinancial Operations\\nExecutive, Sal...  10289113   \n",
       "3  Birst, Business Management or Sales, Mailchimp...  10501991   \n",
       "4  Human Resources, Darton State College, Communi...  10541358   \n",
       "\n",
       "               Category  \n",
       "0  BUSINESS-DEVELOPMENT  \n",
       "1  BUSINESS-DEVELOPMENT  \n",
       "2  BUSINESS-DEVELOPMENT  \n",
       "3  BUSINESS-DEVELOPMENT  \n",
       "4  BUSINESS-DEVELOPMENT  "
      ]
     },
     "execution_count": 93,
     "metadata": {},
     "output_type": "execute_result"
    }
   ],
   "source": [
    "# Load the cleaned data\n",
    "df = pd.read_csv('skills_education.csv')\n",
    "df.head()"
   ]
  },
  {
   "cell_type": "code",
   "execution_count": 94,
   "id": "116ef9af",
   "metadata": {},
   "outputs": [],
   "source": [
    "# Handle missing or invalid values\n",
    "df['education'] = df['education'].fillna('')  # Replace NaN with empty string\n",
    "df['education'] = df['education'].astype(str)\n",
    "df['skills'] = df['skills'].fillna('')  # Replace NaN with empty string\n",
    "df['skills'] = df['skills'].astype(str)"
   ]
  },
  {
   "cell_type": "code",
   "execution_count": 95,
   "id": "0fa3f29b",
   "metadata": {},
   "outputs": [],
   "source": [
    "def text_cleaning(text:str) -> str:\n",
    "    if pd.isnull(text):\n",
    "        return\n",
    "    \n",
    "    # lower-case everything\n",
    "    text = text.lower().strip()\n",
    "    \n",
    "    # For removing puctuations\n",
    "    translator = str.maketrans('', '', string.punctuation)\n",
    "    \n",
    "    # expand all the short-form words\n",
    "    text = contractions.fix(text)\n",
    "    \n",
    "    # remove any special chars\n",
    "    text = re.sub(r'http\\S+|www\\S+|https\\S+', '', text) # Remove URLs\n",
    "    text = re.sub(r'\\S+@\\S+', '', text) # Remove emails\n",
    "    text = re.sub(r'\\b\\d{1,3}[-./]?\\d{1,3}[-./]?\\d{1,4}\\b', '', text) # Remove phone numbers\n",
    "    text = text.translate(translator) # Remove puctuations\n",
    "    text = re.sub(r'[^a-zA-Z]', ' ', text) # Remove other non-alphanumeric characters\n",
    "    \n",
    "    return text.strip()"
   ]
  },
  {
   "cell_type": "code",
   "execution_count": 96,
   "id": "01a2f541",
   "metadata": {},
   "outputs": [
    {
     "name": "stdout",
     "output_type": "stream",
     "text": [
      "            ID                                        resume_text\n",
      "0     10228751  Cold, Excel WFX, State\\n \\nManage, Staffing Co...\n",
      "1     10235211  Associate of Arts\\n \\n: \\nGolf Management\\n \\n...\n",
      "2     10289113  The Over Achiever of the Year, Fortune 500, Ou...\n",
      "3     10501991  Ph.D. Birst, Business Management or Sales, Mai...\n",
      "4     10541358  Fortune 500, Excel Human Resources, Darton Sta...\n",
      "...        ...                                                ...\n",
      "1010  85973397   the Regional Hospital Administrator, 04/2013\\...\n",
      "1011  88651471  MBA, Excel PM-Group, Federal Acquisition Regul...\n",
      "1012  91197243  Leadership, Marketing, Excel Public Relations,...\n",
      "1013  93828034  Excel, Renae's Story\" Writer, Aegis MS Office ...\n",
      "1014  98086373  Merchandising, Games, The Color Run, The Color...\n",
      "\n",
      "[1015 rows x 2 columns]\n"
     ]
    }
   ],
   "source": [
    "# Combine columns to create resume text\n",
    "df['resume_text'] = df['skills'] + \" \" + df['education']\n",
    "\n",
    "# Display the result\n",
    "print(df[['ID', 'resume_text']])"
   ]
  },
  {
   "cell_type": "code",
   "execution_count": 97,
   "id": "39c8d441-e324-4560-96d9-40ebe21343c2",
   "metadata": {
    "tags": []
   },
   "outputs": [],
   "source": [
    "# Sample job descriptions\n",
    "job_descriptions = jd_df['job_description'].apply(text_cleaning)[:15].to_list() \n",
    "\n",
    "# Sample resumes (replace with your extracted resume data)\n",
    "resumes = df['resume_text'].to_list()"
   ]
  },
  {
   "cell_type": "markdown",
   "id": "ca874cc5-d4bd-4b6b-839e-3382eb71b142",
   "metadata": {},
   "source": [
    "## Creating Embedding using `DistilBertTokenizer`, `DistilBertModel`"
   ]
  },
  {
   "cell_type": "code",
   "execution_count": 86,
   "id": "8be27466",
   "metadata": {},
   "outputs": [],
   "source": [
    "from transformers import DistilBertTokenizer, DistilBertModel\n",
    "from sklearn.metrics.pairwise import cosine_similarity\n",
    "\n",
    "# Initialize the DistilBERT tokenizer and model\n",
    "tokenizer = DistilBertTokenizer.from_pretrained('distilbert-base-uncased')\n",
    "model = DistilBertModel.from_pretrained('distilbert-base-uncased')\n"
   ]
  },
  {
   "cell_type": "code",
   "execution_count": 87,
   "id": "c14363e5",
   "metadata": {},
   "outputs": [],
   "source": [
    "# Tokenize and embed job descriptions and resumes\n",
    "job_description_embeddings = []\n",
    "for description in job_descriptions:\n",
    "    tokens = tokenizer(description, padding=True, truncation=True, return_tensors='pt')\n",
    "    with torch.no_grad():\n",
    "        output = model(**tokens)\n",
    "    embeddings = output.last_hidden_state.mean(dim=1).numpy()\n",
    "    job_description_embeddings.append(embeddings[0])\n",
    "\n",
    "resume_embeddings = []\n",
    "for resume in resumes:\n",
    "    tokens = tokenizer(resume, padding=True, truncation=True, return_tensors='pt')\n",
    "    with torch.no_grad():\n",
    "        output = model(**tokens)\n",
    "    embeddings = output.last_hidden_state.mean(dim=1).numpy()\n",
    "    resume_embeddings.append(embeddings[0])"
   ]
  },
  {
   "cell_type": "code",
   "execution_count": 54,
   "id": "4186de99-7674-4821-ba16-a3dcd22ef709",
   "metadata": {
    "tags": []
   },
   "outputs": [
    {
     "data": {
      "text/plain": [
       "((768,), (768,))"
      ]
     },
     "execution_count": 54,
     "metadata": {},
     "output_type": "execute_result"
    }
   ],
   "source": [
    "job_description_embeddings[0].shape, resume_embeddings[0].shape"
   ]
  },
  {
   "cell_type": "code",
   "execution_count": 98,
   "id": "d5673e56-c1cc-493a-8c9f-bd0385bd8ab8",
   "metadata": {
    "tags": []
   },
   "outputs": [
    {
     "data": {
      "text/plain": [
       "(15, 1015)"
      ]
     },
     "execution_count": 98,
     "metadata": {},
     "output_type": "execute_result"
    }
   ],
   "source": [
    "len(job_description_embeddings), len(resume_embeddings)"
   ]
  },
  {
   "cell_type": "markdown",
   "id": "e9f43098-36fc-43f0-b3b1-2d728f4d058d",
   "metadata": {},
   "source": [
    "## Calculating Similarity Score & Getting Top 5 Candidates"
   ]
  },
  {
   "cell_type": "code",
   "execution_count": 99,
   "id": "9787975e-d89f-475c-971f-a0a79f36cee3",
   "metadata": {
    "scrolled": true,
    "tags": []
   },
   "outputs": [
    {
     "data": {
      "text/plain": [
       "array([[0.78613627, 0.77106947, 0.82659954, ..., 0.8323555 , 0.82050574,\n",
       "        0.842985  ],\n",
       "       [0.7720886 , 0.7642378 , 0.81697   , ..., 0.8034971 , 0.8105255 ,\n",
       "        0.829932  ],\n",
       "       [0.77575755, 0.7825777 , 0.8229194 , ..., 0.824862  , 0.8066385 ,\n",
       "        0.83687353],\n",
       "       ...,\n",
       "       [0.7785107 , 0.7789704 , 0.8168187 , ..., 0.82830167, 0.81880105,\n",
       "        0.8517502 ],\n",
       "       [0.8679829 , 0.7852365 , 0.812458  , ..., 0.8164421 , 0.83618987,\n",
       "        0.83839583],\n",
       "       [0.7818338 , 0.79047847, 0.8251783 , ..., 0.83040214, 0.8203684 ,\n",
       "        0.85156286]], dtype=float32)"
      ]
     },
     "execution_count": 99,
     "metadata": {},
     "output_type": "execute_result"
    }
   ],
   "source": [
    "# Calculate cosine similarity between job descriptions and resumes\n",
    "similarity_scores = cosine_similarity(job_description_embeddings, resume_embeddings)\n",
    "similarity_scores"
   ]
  },
  {
   "cell_type": "code",
   "execution_count": 102,
   "id": "8ac47a3b-0fb4-4139-a409-046bf9ec1d63",
   "metadata": {
    "tags": []
   },
   "outputs": [
    {
     "name": "stdout",
     "output_type": "stream",
     "text": [
      "Top candidates for JD 1 - Postition: Sales Specialist\n",
      "  Candidate 327 - Similarity Score: 0.8856 - DESIGNER/44185767.pdf\n",
      "  Candidate 58 - Similarity Score: 0.8766 - BUSINESS-DEVELOPMENT/22765255.pdf\n",
      "  Candidate 212 - Similarity Score: 0.8761 - CONSULTANT/51724595.pdf\n",
      "  Candidate 861 - Similarity Score: 0.8754 - INFORMATION-TECHNOLOGY/28035460.pdf\n",
      "  Candidate 177 - Similarity Score: 0.8745 - CONSULTANT/26919036.pdf\n",
      "\n",
      "Top candidates for JD 2 - Postition: Apple Solutions Consultant\n",
      "  Candidate 76 - Similarity Score: 0.8492 - BUSINESS-DEVELOPMENT/27850777.pdf\n",
      "  Candidate 972 - Similarity Score: 0.8491 - PUBLIC-RELATIONS/26127853.pdf\n",
      "  Candidate 775 - Similarity Score: 0.8450 - HR/57667857.pdf\n",
      "  Candidate 177 - Similarity Score: 0.8442 - CONSULTANT/26919036.pdf\n",
      "  Candidate 939 - Similarity Score: 0.8418 - PUBLIC-RELATIONS/19497420.pdf\n",
      "\n",
      "Top candidates for JD 3 - Postition: Licensing Coordinator - Consumer Products\n",
      "  Candidate 163 - Similarity Score: 0.8740 - CONSULTANT/22259768.pdf\n",
      "  Candidate 731 - Similarity Score: 0.8727 - HR/25676643.pdf\n",
      "  Candidate 991 - Similarity Score: 0.8719 - PUBLIC-RELATIONS/33072201.pdf\n",
      "  Candidate 939 - Similarity Score: 0.8686 - PUBLIC-RELATIONS/19497420.pdf\n",
      "  Candidate 327 - Similarity Score: 0.8639 - DESIGNER/44185767.pdf\n",
      "\n",
      "Top candidates for JD 4 - Postition: Web Designer\n",
      "  Candidate 731 - Similarity Score: 0.8932 - HR/25676643.pdf\n",
      "  Candidate 327 - Similarity Score: 0.8771 - DESIGNER/44185767.pdf\n",
      "  Candidate 179 - Similarity Score: 0.8768 - CONSULTANT/27726066.pdf\n",
      "  Candidate 939 - Similarity Score: 0.8750 - PUBLIC-RELATIONS/19497420.pdf\n",
      "  Candidate 58 - Similarity Score: 0.8750 - BUSINESS-DEVELOPMENT/22765255.pdf\n",
      "\n",
      "Top candidates for JD 5 - Postition: Web Developer\n",
      "  Candidate 163 - Similarity Score: 0.8859 - CONSULTANT/22259768.pdf\n",
      "  Candidate 731 - Similarity Score: 0.8840 - HR/25676643.pdf\n",
      "  Candidate 765 - Similarity Score: 0.8808 - HR/39081840.pdf\n",
      "  Candidate 179 - Similarity Score: 0.8802 - CONSULTANT/27726066.pdf\n",
      "  Candidate 212 - Similarity Score: 0.8794 - CONSULTANT/51724595.pdf\n",
      "\n",
      "Top candidates for JD 6 - Postition: Frontend Web Developer\n",
      "  Candidate 939 - Similarity Score: 0.8701 - PUBLIC-RELATIONS/19497420.pdf\n",
      "  Candidate 76 - Similarity Score: 0.8663 - BUSINESS-DEVELOPMENT/27850777.pdf\n",
      "  Candidate 395 - Similarity Score: 0.8658 - DIGITAL-MEDIA/25038571.pdf\n",
      "  Candidate 1015 - Similarity Score: 0.8649 - PUBLIC-RELATIONS/98086373.pdf\n",
      "  Candidate 33 - Similarity Score: 0.8628 - BUSINESS-DEVELOPMENT/16091352.pdf\n",
      "\n",
      "Top candidates for JD 7 - Postition: Remote Website Designer\n",
      "  Candidate 163 - Similarity Score: 0.8897 - CONSULTANT/22259768.pdf\n",
      "  Candidate 731 - Similarity Score: 0.8871 - HR/25676643.pdf\n",
      "  Candidate 972 - Similarity Score: 0.8819 - PUBLIC-RELATIONS/26127853.pdf\n",
      "  Candidate 327 - Similarity Score: 0.8789 - DESIGNER/44185767.pdf\n",
      "  Candidate 991 - Similarity Score: 0.8780 - PUBLIC-RELATIONS/33072201.pdf\n",
      "\n",
      "Top candidates for JD 8 - Postition: Web Designer\n",
      "  Candidate 731 - Similarity Score: 0.8962 - HR/25676643.pdf\n",
      "  Candidate 972 - Similarity Score: 0.8865 - PUBLIC-RELATIONS/26127853.pdf\n",
      "  Candidate 163 - Similarity Score: 0.8804 - CONSULTANT/22259768.pdf\n",
      "  Candidate 939 - Similarity Score: 0.8793 - PUBLIC-RELATIONS/19497420.pdf\n",
      "  Candidate 177 - Similarity Score: 0.8788 - CONSULTANT/26919036.pdf\n",
      "\n",
      "Top candidates for JD 9 - Postition: Web Designer\n",
      "  Candidate 731 - Similarity Score: 0.8871 - HR/25676643.pdf\n",
      "  Candidate 163 - Similarity Score: 0.8836 - CONSULTANT/22259768.pdf\n",
      "  Candidate 212 - Similarity Score: 0.8802 - CONSULTANT/51724595.pdf\n",
      "  Candidate 991 - Similarity Score: 0.8800 - PUBLIC-RELATIONS/33072201.pdf\n",
      "  Candidate 939 - Similarity Score: 0.8784 - PUBLIC-RELATIONS/19497420.pdf\n",
      "\n",
      "Top candidates for JD 10 - Postition: SR. Web Designer\n",
      "  Candidate 163 - Similarity Score: 0.8945 - CONSULTANT/22259768.pdf\n",
      "  Candidate 861 - Similarity Score: 0.8886 - INFORMATION-TECHNOLOGY/28035460.pdf\n",
      "  Candidate 731 - Similarity Score: 0.8885 - HR/25676643.pdf\n",
      "  Candidate 327 - Similarity Score: 0.8848 - DESIGNER/44185767.pdf\n",
      "  Candidate 179 - Similarity Score: 0.8818 - CONSULTANT/27726066.pdf\n",
      "\n",
      "Top candidates for JD 11 - Postition: Web Developer\n",
      "  Candidate 731 - Similarity Score: 0.8998 - HR/25676643.pdf\n",
      "  Candidate 163 - Similarity Score: 0.8984 - CONSULTANT/22259768.pdf\n",
      "  Candidate 991 - Similarity Score: 0.8944 - PUBLIC-RELATIONS/33072201.pdf\n",
      "  Candidate 327 - Similarity Score: 0.8873 - DESIGNER/44185767.pdf\n",
      "  Candidate 861 - Similarity Score: 0.8845 - INFORMATION-TECHNOLOGY/28035460.pdf\n",
      "\n",
      "Top candidates for JD 12 - Postition: Web Developer\n",
      "  Candidate 731 - Similarity Score: 0.8835 - HR/25676643.pdf\n",
      "  Candidate 163 - Similarity Score: 0.8794 - CONSULTANT/22259768.pdf\n",
      "  Candidate 179 - Similarity Score: 0.8777 - CONSULTANT/27726066.pdf\n",
      "  Candidate 327 - Similarity Score: 0.8759 - DESIGNER/44185767.pdf\n",
      "  Candidate 177 - Similarity Score: 0.8744 - CONSULTANT/26919036.pdf\n",
      "\n",
      "Top candidates for JD 13 - Postition: Senior UI Designer\n",
      "  Candidate 972 - Similarity Score: 0.8755 - PUBLIC-RELATIONS/26127853.pdf\n",
      "  Candidate 731 - Similarity Score: 0.8735 - HR/25676643.pdf\n",
      "  Candidate 939 - Similarity Score: 0.8715 - PUBLIC-RELATIONS/19497420.pdf\n",
      "  Candidate 327 - Similarity Score: 0.8681 - DESIGNER/44185767.pdf\n",
      "  Candidate 58 - Similarity Score: 0.8675 - BUSINESS-DEVELOPMENT/22765255.pdf\n",
      "\n",
      "Top candidates for JD 14 - Postition: Wordpress Web Developer\n",
      "  Candidate 877 - Similarity Score: 0.8925 - INFORMATION-TECHNOLOGY/36856210.pdf\n",
      "  Candidate 305 - Similarity Score: 0.8921 - DESIGNER/30968749.pdf\n",
      "  Candidate 287 - Similarity Score: 0.8912 - DESIGNER/25422388.pdf\n",
      "  Candidate 826 - Similarity Score: 0.8899 - INFORMATION-TECHNOLOGY/20001721.pdf\n",
      "  Candidate 159 - Similarity Score: 0.8890 - CONSULTANT/21156767.pdf\n",
      "\n",
      "Top candidates for JD 15 - Postition: UI Web Designer\n",
      "  Candidate 731 - Similarity Score: 0.8825 - HR/25676643.pdf\n",
      "  Candidate 972 - Similarity Score: 0.8800 - PUBLIC-RELATIONS/26127853.pdf\n",
      "  Candidate 939 - Similarity Score: 0.8766 - PUBLIC-RELATIONS/19497420.pdf\n",
      "  Candidate 861 - Similarity Score: 0.8755 - INFORMATION-TECHNOLOGY/28035460.pdf\n",
      "  Candidate 163 - Similarity Score: 0.8745 - CONSULTANT/22259768.pdf\n",
      "\n"
     ]
    }
   ],
   "source": [
    "# Rank candidates for each job description based on similarity scores\n",
    "num_top_candidates = 5\n",
    "top_candidates = []\n",
    "\n",
    "for i, job_description in enumerate(job_descriptions):\n",
    "    candidates_with_scores = list(enumerate(similarity_scores[i]))\n",
    "    candidates_with_scores.sort(key=lambda x: x[1], reverse=True)\n",
    "    top_candidates_for_job = candidates_with_scores[:num_top_candidates]\n",
    "    top_candidates.append(top_candidates_for_job)\n",
    "\n",
    "# Print the top candidates for each job description\n",
    "for i, job_description in enumerate(job_descriptions):\n",
    "    print(f\"Top candidates for JD {i+1} - Postition: {jd_df['position_title'][i]}\")\n",
    "    for candidate_index, score in top_candidates[i]:\n",
    "        print(f\"  Candidate {candidate_index + 1} - Similarity Score: {score:.4f} - {df['Category'][candidate_index]}/{df['ID'][candidate_index]}.pdf\")\n",
    "    print()"
   ]
  }
 ],
 "metadata": {
  "kernelspec": {
   "display_name": "Python 3",
   "language": "python",
   "name": "python3"
  },
  "language_info": {
   "codemirror_mode": {
    "name": "ipython",
    "version": 3
   },
   "file_extension": ".py",
   "mimetype": "text/x-python",
   "name": "python",
   "nbconvert_exporter": "python",
   "pygments_lexer": "ipython3",
   "version": "3.10.7"
  },
  "widgets": {
   "application/vnd.jupyter.widget-state+json": {
    "state": {},
    "version_major": 2,
    "version_minor": 0
   }
  }
 },
 "nbformat": 4,
 "nbformat_minor": 5
}
