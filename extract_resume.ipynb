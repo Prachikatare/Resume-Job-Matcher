{
 "cells": [
  {
   "cell_type": "markdown",
   "id": "d49cffd2-cdf7-41ea-a83e-df7a7294620c",
   "metadata": {
    "tags": []
   },
   "source": [
    "### Imports"
   ]
  },
  {
   "cell_type": "code",
   "execution_count": 40,
   "id": "1f822d0f-724c-4807-9a59-8538229a89f7",
   "metadata": {
    "tags": []
   },
   "outputs": [],
   "source": [
    "import os\n",
    "import re\n",
    "import pdfplumber \n",
    "import pandas as pd\n",
    "import numpy as np\n",
    "import spacy\n",
    "import PyPDF2  # or pdfplumber for better text extraction"
   ]
  },
  {
   "cell_type": "markdown",
   "id": "7353e195-38d8-4481-8157-c755ab0fca0e",
   "metadata": {
    "tags": []
   },
   "source": [
    "### Function to extract text from PDFs "
   ]
  },
  {
   "cell_type": "code",
   "execution_count": 4,
   "id": "8173983a-12f3-4822-9aa7-b45318c9b22a",
   "metadata": {
    "tags": []
   },
   "outputs": [],
   "source": [
    "# Define a function to extract information from a PDF\n",
    "def extract_information(pdf_path):\n",
    "    with pdfplumber.open(pdf_path) as pdf:\n",
    "        resume_text = \"\"\n",
    "        for page in pdf.pages:\n",
    "            resume_text = \" \".join([resume_text, page.extract_text()])\n",
    "    resume_text = resume_text.strip()\n",
    "    return resume_text"
   ]
  },
  {
   "cell_type": "markdown",
   "id": "d40dfae8-f8b9-4751-859a-04b17eaf50cc",
   "metadata": {
    "tags": []
   },
   "source": [
    "### Defining Regex to extract Skills & Education from extracted resume text"
   ]
  },
  {
   "cell_type": "code",
   "execution_count": 5,
   "id": "ba743403-abf0-4790-b288-6d23ee111fe2",
   "metadata": {},
   "outputs": [],
   "source": [
    "# Define a function to extract Skills, and Education\n",
    "def extract_details(resume_text):\n",
    "    # Define regular expressions to extract Skills & Education\n",
    "    skills_pattern = r'Skills\\n([\\s\\S]*?)(?=\\n[A-Z]|$)' \n",
    "    education_pattern = r'Education\\n([\\s\\S]*?)(?=\\n[A-Z][a-z]*\\n|$)'\n",
    "    \n",
    "    # Get Skills & Education\n",
    "    skills_match = re.findall(skills_pattern, resume_text, re.DOTALL)\n",
    "    education_match = re.findall(education_pattern, resume_text, re.DOTALL)\n",
    "    \n",
    "    # Skills & Education\n",
    "    if len(skills_match)!=0:\n",
    "        skills = skills_match[0]\n",
    "    else:\n",
    "        skills_pattern = r'skills\\n((?:.*)*)' \n",
    "        skills_match = re.findall(skills_pattern, resume_text, re.DOTALL)\n",
    "        if len(skills_match)!=0:\n",
    "            skills = skills_match[0]\n",
    "        else:\n",
    "            skills = None\n",
    "            \n",
    "    if len(education_match)!=0:\n",
    "        education = education_match[0]\n",
    "    else:\n",
    "        education = None\n",
    "    \n",
    "    return {\n",
    "        'Skills': skills,\n",
    "        'Education': education\n",
    "    }"
   ]
  },
  {
   "cell_type": "markdown",
   "id": "88729de5-131f-4b18-92aa-28b849defa3e",
   "metadata": {
    "tags": []
   },
   "source": [
    "### Extracting CVs"
   ]
  },
  {
   "cell_type": "code",
   "execution_count": 46,
   "id": "6a75d70b",
   "metadata": {},
   "outputs": [
    {
     "name": "stdout",
     "output_type": "stream",
     "text": [
      "PDF Extraction Done!\n",
      "Data saved to skills_education.csv\n"
     ]
    }
   ],
   "source": [
    "# Load spaCy model\n",
    "nlp = spacy.load(\"en_core_web_sm\")\n",
    "\n",
    "def extract_text_from_pdf(pdf_path):\n",
    "    #Extracts text from a PDF file.\n",
    "    with open(pdf_path, \"rb\") as file:\n",
    "        reader = PyPDF2.PdfReader(file)\n",
    "        text = \" \".join([page.extract_text() for page in reader.pages if page.extract_text()])\n",
    "    return text\n",
    "\n",
    "def extract_details(text):\n",
    "    #Extracts skills and education details from resume text using spaCy.\n",
    "    doc = nlp(text)\n",
    "    skills = []\n",
    "    education = []\n",
    "\n",
    "    for ent in doc.ents:\n",
    "        if ent.label_ in [\"ORG\", \"EDUCATION\"]:  # Adjust based on spaCy entity types\n",
    "            education.append(ent.text)\n",
    "        elif ent.label_ in [\"SKILL\", \"WORK_OF_ART\", \"PRODUCT\"]:  # Skill-related entities\n",
    "            skills.append(ent.text)\n",
    "\n",
    "    return {\n",
    "        \"skills\": \", \".join(set(skills)),\n",
    "        \"education\": \", \".join(set(education))\n",
    "    }\n",
    "\n",
    "# Define folder path\n",
    "data_folder = r'C:\\Users\\prach\\Downloads\\Resume-to-Job Matcher\\data'\n",
    "resume_data = []\n",
    "\n",
    "# Iterate through sub-folders and extract data from PDFs\n",
    "for category_folder in os.listdir(data_folder):\n",
    "    category_path = os.path.join(data_folder, category_folder)\n",
    "    if os.path.isdir(category_path):\n",
    "        for pdf_file in os.listdir(category_path):\n",
    "            if pdf_file.endswith('.pdf'):\n",
    "                pdf_path = os.path.join(category_path, pdf_file)\n",
    "                \n",
    "                text = extract_text_from_pdf(pdf_path)\n",
    "                details = extract_details(text)\n",
    "                \n",
    "                # Adding Category & ID\n",
    "                details['ID'] = pdf_file.replace('.pdf', '')\n",
    "                details['Category'] = category_folder\n",
    "                \n",
    "                resume_data.append(details)\n",
    "\n",
    "print('PDF Extraction Done!')\n",
    "\n",
    "# Convert to DataFrame and save\n",
    "resume_df = pd.DataFrame(resume_data)\n",
    "resume_df.to_csv('./skills_education.csv', index=False)\n",
    "print('Data saved to skills_education.csv')\n"
   ]
  },
  {
   "cell_type": "markdown",
   "id": "c3348774-c0f9-431d-901b-4a131016c0c0",
   "metadata": {},
   "source": [
    "### Analyzing Null Values"
   ]
  },
  {
   "cell_type": "code",
   "execution_count": 47,
   "id": "7d30658a-fdfb-43cf-8f27-9604b76430c0",
   "metadata": {
    "tags": []
   },
   "outputs": [
    {
     "data": {
      "text/plain": [
       "skills       0\n",
       "education    0\n",
       "ID           0\n",
       "Category     0\n",
       "dtype: int64"
      ]
     },
     "execution_count": 47,
     "metadata": {},
     "output_type": "execute_result"
    }
   ],
   "source": [
    "# Null values\n",
    "resume_df.isna().sum()"
   ]
  },
  {
   "cell_type": "code",
   "execution_count": 53,
   "id": "5a17f63f",
   "metadata": {},
   "outputs": [
    {
     "name": "stdout",
     "output_type": "stream",
     "text": [
      "Empty DataFrame\n",
      "Columns: [skills, education, ID, Category]\n",
      "Index: []\n"
     ]
    }
   ],
   "source": [
    "print(resume_df[(resume_df.skills.isna() & resume_df.education.isna())])"
   ]
  },
  {
   "cell_type": "code",
   "execution_count": 55,
   "id": "f3f6b14a-0932-4478-b7a1-ee5fca64209c",
   "metadata": {
    "tags": []
   },
   "outputs": [
    {
     "data": {
      "text/html": [
       "<div>\n",
       "<style scoped>\n",
       "    .dataframe tbody tr th:only-of-type {\n",
       "        vertical-align: middle;\n",
       "    }\n",
       "\n",
       "    .dataframe tbody tr th {\n",
       "        vertical-align: top;\n",
       "    }\n",
       "\n",
       "    .dataframe thead th {\n",
       "        text-align: right;\n",
       "    }\n",
       "</style>\n",
       "<table border=\"1\" class=\"dataframe\">\n",
       "  <thead>\n",
       "    <tr style=\"text-align: right;\">\n",
       "      <th></th>\n",
       "      <th>skills</th>\n",
       "      <th>education</th>\n",
       "      <th>ID</th>\n",
       "      <th>Category</th>\n",
       "    </tr>\n",
       "  </thead>\n",
       "  <tbody>\n",
       "    <tr>\n",
       "      <th>0</th>\n",
       "      <td>Cold, Excel</td>\n",
       "      <td>WFX, State\\n \\nManage, Staffing Coordinator\\n ...</td>\n",
       "      <td>10228751</td>\n",
       "      <td>BUSINESS-DEVELOPMENT</td>\n",
       "    </tr>\n",
       "    <tr>\n",
       "      <th>1</th>\n",
       "      <td>Associate of Arts\\n \\n: \\nGolf Management\\n \\n...</td>\n",
       "      <td>LLC, Professional Golf Management\\n \\nCity\\n \\...</td>\n",
       "      <td>10235211</td>\n",
       "      <td>BUSINESS-DEVELOPMENT</td>\n",
       "    </tr>\n",
       "    <tr>\n",
       "      <th>2</th>\n",
       "      <td>The Over Achiever of the Year, Fortune 500, Ou...</td>\n",
       "      <td>State\\n \\nFinancial Operations\\nExecutive, Sal...</td>\n",
       "      <td>10289113</td>\n",
       "      <td>BUSINESS-DEVELOPMENT</td>\n",
       "    </tr>\n",
       "    <tr>\n",
       "      <th>3</th>\n",
       "      <td>Ph.D.</td>\n",
       "      <td>Birst, Business Management or Sales, Mailchimp...</td>\n",
       "      <td>10501991</td>\n",
       "      <td>BUSINESS-DEVELOPMENT</td>\n",
       "    </tr>\n",
       "    <tr>\n",
       "      <th>4</th>\n",
       "      <td>Fortune 500, Excel</td>\n",
       "      <td>Human Resources, Darton State College, Communi...</td>\n",
       "      <td>10541358</td>\n",
       "      <td>BUSINESS-DEVELOPMENT</td>\n",
       "    </tr>\n",
       "  </tbody>\n",
       "</table>\n",
       "</div>"
      ],
      "text/plain": [
       "                                              skills  \\\n",
       "0                                        Cold, Excel   \n",
       "1  Associate of Arts\\n \\n: \\nGolf Management\\n \\n...   \n",
       "2  The Over Achiever of the Year, Fortune 500, Ou...   \n",
       "3                                              Ph.D.   \n",
       "4                                 Fortune 500, Excel   \n",
       "\n",
       "                                           education        ID  \\\n",
       "0  WFX, State\\n \\nManage, Staffing Coordinator\\n ...  10228751   \n",
       "1  LLC, Professional Golf Management\\n \\nCity\\n \\...  10235211   \n",
       "2  State\\n \\nFinancial Operations\\nExecutive, Sal...  10289113   \n",
       "3  Birst, Business Management or Sales, Mailchimp...  10501991   \n",
       "4  Human Resources, Darton State College, Communi...  10541358   \n",
       "\n",
       "               Category  \n",
       "0  BUSINESS-DEVELOPMENT  \n",
       "1  BUSINESS-DEVELOPMENT  \n",
       "2  BUSINESS-DEVELOPMENT  \n",
       "3  BUSINESS-DEVELOPMENT  \n",
       "4  BUSINESS-DEVELOPMENT  "
      ]
     },
     "execution_count": 55,
     "metadata": {},
     "output_type": "execute_result"
    }
   ],
   "source": [
    "# We are left with 1009 resumes after removing those 6 resumes with null data in both of them\n",
    "cv_df = resume_df.copy()\n",
    "cv_df.head()"
   ]
  },
  {
   "cell_type": "code",
   "execution_count": 56,
   "id": "bd4850ee-243f-40bb-bda6-a4328c9a9908",
   "metadata": {
    "tags": []
   },
   "outputs": [
    {
     "data": {
      "text/plain": [
       "skills       0\n",
       "education    0\n",
       "ID           0\n",
       "Category     0\n",
       "dtype: int64"
      ]
     },
     "execution_count": 56,
     "metadata": {},
     "output_type": "execute_result"
    }
   ],
   "source": [
    "# New number of null values in Skills & Education Section\n",
    "cv_df.isna().sum()"
   ]
  },
  {
   "cell_type": "code",
   "execution_count": 58,
   "id": "4b215337-ae9a-4d8e-a290-9bc4bbb8092e",
   "metadata": {
    "tags": []
   },
   "outputs": [
    {
     "data": {
      "text/html": [
       "<div>\n",
       "<style scoped>\n",
       "    .dataframe tbody tr th:only-of-type {\n",
       "        vertical-align: middle;\n",
       "    }\n",
       "\n",
       "    .dataframe tbody tr th {\n",
       "        vertical-align: top;\n",
       "    }\n",
       "\n",
       "    .dataframe thead th {\n",
       "        text-align: right;\n",
       "    }\n",
       "</style>\n",
       "<table border=\"1\" class=\"dataframe\">\n",
       "  <thead>\n",
       "    <tr style=\"text-align: right;\">\n",
       "      <th></th>\n",
       "      <th>skills</th>\n",
       "      <th>education</th>\n",
       "      <th>ID</th>\n",
       "      <th>Category</th>\n",
       "    </tr>\n",
       "  </thead>\n",
       "  <tbody>\n",
       "  </tbody>\n",
       "</table>\n",
       "</div>"
      ],
      "text/plain": [
       "Empty DataFrame\n",
       "Columns: [skills, education, ID, Category]\n",
       "Index: []"
      ]
     },
     "execution_count": 58,
     "metadata": {},
     "output_type": "execute_result"
    }
   ],
   "source": [
    "# Null values in Skills Section\n",
    "cv_df[cv_df.skills.isna()]"
   ]
  },
  {
   "cell_type": "code",
   "execution_count": 59,
   "id": "b5b41e30-bc4b-4d4d-a946-49dafe207994",
   "metadata": {
    "tags": []
   },
   "outputs": [
    {
     "data": {
      "text/html": [
       "<div>\n",
       "<style scoped>\n",
       "    .dataframe tbody tr th:only-of-type {\n",
       "        vertical-align: middle;\n",
       "    }\n",
       "\n",
       "    .dataframe tbody tr th {\n",
       "        vertical-align: top;\n",
       "    }\n",
       "\n",
       "    .dataframe thead th {\n",
       "        text-align: right;\n",
       "    }\n",
       "</style>\n",
       "<table border=\"1\" class=\"dataframe\">\n",
       "  <thead>\n",
       "    <tr style=\"text-align: right;\">\n",
       "      <th></th>\n",
       "      <th>skills</th>\n",
       "      <th>education</th>\n",
       "      <th>ID</th>\n",
       "      <th>Category</th>\n",
       "    </tr>\n",
       "  </thead>\n",
       "  <tbody>\n",
       "  </tbody>\n",
       "</table>\n",
       "</div>"
      ],
      "text/plain": [
       "Empty DataFrame\n",
       "Columns: [skills, education, ID, Category]\n",
       "Index: []"
      ]
     },
     "execution_count": 59,
     "metadata": {},
     "output_type": "execute_result"
    }
   ],
   "source": [
    "# Null values in Education Section\n",
    "cv_df[cv_df.education.isna()]"
   ]
  },
  {
   "cell_type": "markdown",
   "id": "6c41827c-6c44-412a-a905-13170bfc3ce7",
   "metadata": {},
   "source": [
    "### Distribution of Different Resumes"
   ]
  },
  {
   "cell_type": "code",
   "execution_count": 60,
   "id": "2f59603b-f3ff-4754-aad8-5207afffd8d8",
   "metadata": {
    "tags": []
   },
   "outputs": [
    {
     "data": {
      "text/plain": [
       "Category\n",
       "BUSINESS-DEVELOPMENT      120\n",
       "INFORMATION-TECHNOLOGY    120\n",
       "ENGINEERING               118\n",
       "FINANCE                   118\n",
       "CONSULTANT                115\n",
       "PUBLIC-RELATIONS          111\n",
       "HR                        110\n",
       "DESIGNER                  107\n",
       "DIGITAL-MEDIA              96\n",
       "Name: count, dtype: int64"
      ]
     },
     "execution_count": 60,
     "metadata": {},
     "output_type": "execute_result"
    }
   ],
   "source": [
    "cv_df.Category.value_counts()"
   ]
  },
  {
   "cell_type": "code",
   "execution_count": 61,
   "id": "a774fe34-5085-4571-ab0e-6f1eacba44bc",
   "metadata": {
    "tags": []
   },
   "outputs": [
    {
     "data": {
      "image/png": "[encoded data removed]",
      "text/plain": [
       "<Figure size 1200x600 with 1 Axes>"
      ]
     },
     "metadata": {},
     "output_type": "display_data"
    }
   ],
   "source": [
    "# We can see here the distribution of different CV categories\n",
    "\n",
    "plt.figure(figsize=(12,6))\n",
    "cv_df.Category.value_counts().plot(kind='barh')\n",
    "for index, value in enumerate(cv_df.Category.value_counts().values):\n",
    "    plt.text(value, index, str(value))\n",
    "plt.show();"
   ]
  }
 ],
 "metadata": {
  "kernelspec": {
   "display_name": "Python 3",
   "language": "python",
   "name": "python3"
  },
  "language_info": {
   "codemirror_mode": {
    "name": "ipython",
    "version": 3
   },
   "file_extension": ".py",
   "mimetype": "text/x-python",
   "name": "python",
   "nbconvert_exporter": "python",
   "pygments_lexer": "ipython3",
   "version": "3.10.7"
  },
  "widgets": {
   "application/vnd.jupyter.widget-state+json": {
    "state": {},
    "version_major": 2,
    "version_minor": 0
   }
  }
 },
 "nbformat": 4,
 "nbformat_minor": 5
}
